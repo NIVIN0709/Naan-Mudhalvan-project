{
 "cells": [
  {
   "cell_type": "code",
   "execution_count": null,
   "id": "36072751",
   "metadata": {},
   "outputs": [],
   "source": [
    "\n",
    "# Import necessary libraries\n",
    "import numpy as np\n",
    "import pandas as pd\n",
    "import matplotlib.pyplot as plt\n",
    "from sklearn.ensemble import RandomForestRegressor\n",
    "from sklearn.model_selection import train_test_split\n",
    "from sklearn.metrics import mean_absolute_error, mean_squared_error\n",
    "import seaborn as sns\n"
   ]
  },
  {
   "cell_type": "code",
   "execution_count": null,
   "id": "2096e263",
   "metadata": {},
   "outputs": [],
   "source": [
    "\n",
    "# Simulate synthetic air pollution data\n",
    "np.random.seed(42)\n",
    "data_size = 500\n",
    "\n",
    "# Features: Temperature, Humidity, Wind Speed, Industrial Emissions\n",
    "temperature = np.random.uniform(15, 35, data_size)\n",
    "humidity = np.random.uniform(30, 90, data_size)\n",
    "wind_speed = np.random.uniform(0, 20, data_size)\n",
    "industrial_emissions = np.random.uniform(50, 200, data_size)\n",
    "\n",
    "# Target: Air Quality Index (AQI)\n",
    "aqi = 50 + 0.4 * temperature - 0.3 * humidity + 0.5 * wind_speed + 0.7 * industrial_emissions + np.random.normal(0, 5, data_size)\n",
    "\n",
    "# Combine into a DataFrame\n",
    "data = pd.DataFrame({\n",
    "    \"Temperature\": temperature,\n",
    "    \"Humidity\": humidity,\n",
    "    \"Wind Speed\": wind_speed,\n",
    "    \"Industrial Emissions\": industrial_emissions,\n",
    "    \"AQI\": aqi\n",
    "})\n",
    "\n",
    "data.head()\n"
   ]
  },
  {
   "cell_type": "code",
   "execution_count": null,
   "id": "9814bf77",
   "metadata": {},
   "outputs": [],
   "source": [
    "\n",
    "# Check for missing values and normalize data\n",
    "data.isnull().sum()\n",
    "data.describe()\n",
    "\n",
    "# Normalize features\n",
    "features = [\"Temperature\", \"Humidity\", \"Wind Speed\", \"Industrial Emissions\"]\n",
    "target = \"AQI\"\n",
    "data[features] = (data[features] - data[features].mean()) / data[features].std()\n",
    "\n",
    "data.head()\n"
   ]
  },
  {
   "cell_type": "code",
   "execution_count": null,
   "id": "9cb4a617",
   "metadata": {},
   "outputs": [],
   "source": [
    "\n",
    "# Split the data into training and testing sets\n",
    "X = data[features]\n",
    "y = data[target]\n",
    "\n",
    "X_train, X_test, y_train, y_test = train_test_split(X, y, test_size=0.2, random_state=42)\n",
    "\n",
    "X_train.shape, X_test.shape\n"
   ]
  },
  {
   "cell_type": "code",
   "execution_count": null,
   "id": "12b8652f",
   "metadata": {},
   "outputs": [],
   "source": [
    "\n",
    "# Train a Random Forest Regressor\n",
    "model = RandomForestRegressor(n_estimators=100, random_state=42)\n",
    "model.fit(X_train, y_train)\n",
    "\n",
    "# Predict on test set\n",
    "y_pred = model.predict(X_test)\n"
   ]
  },
  {
   "cell_type": "code",
   "execution_count": null,
   "id": "ad1becd8",
   "metadata": {},
   "outputs": [],
   "source": [
    "\n",
    "# Evaluate the model\n",
    "mae = mean_absolute_error(y_test, y_pred)\n",
    "rmse = np.sqrt(mean_squared_error(y_test, y_pred))\n",
    "\n",
    "print(f\"Mean Absolute Error (MAE): {mae:.2f}\")\n",
    "print(f\"Root Mean Squared Error (RMSE): {rmse:.2f}\")\n"
   ]
  },
  {
   "cell_type": "code",
   "execution_count": null,
   "id": "7001f54f",
   "metadata": {},
   "outputs": [],
   "source": [
    "\n",
    "# Plot actual vs predicted AQI\n",
    "plt.figure(figsize=(10, 6))\n",
    "sns.scatterplot(x=y_test, y=y_pred, alpha=0.7)\n",
    "plt.plot([y_test.min(), y_test.max()], [y_test.min(), y_test.max()], 'r', linestyle='--', label='Perfect Prediction')\n",
    "plt.xlabel(\"Actual AQI\")\n",
    "plt.ylabel(\"Predicted AQI\")\n",
    "plt.title(\"Actual vs Predicted AQI\")\n",
    "plt.legend()\n",
    "plt.show()\n"
   ]
  }
 ],
 "metadata": {},
 "nbformat": 4,
 "nbformat_minor": 5
}
